{
 "cells": [
  {
   "cell_type": "markdown",
   "metadata": {},
   "source": [
    "# Implement Array Data Structure\n",
    "The goal is to implement an abstract data type for arrays. The array should have the following functions:\n",
    "\n",
    "- Array(size): should allow the creation of an array with the *size* elements\n",
    "- length() should provide the length of the array\n",
    "- getItem(index) should provide the element at the index position in the array\n",
    "- setItem(index) should allow to modify the contents of the array at the index\n",
    "- clear(value) should allow to set every element in the array to a value\n",
    "- iterator(): creates and returns an iterator that can be used to traverse the elements of an array"
   ]
  },
  {
   "cell_type": "code",
   "execution_count": 3,
   "metadata": {
    "collapsed": false
   },
   "outputs": [
    {
     "ename": "ImportError",
     "evalue": "cannot import name 'Array'",
     "output_type": "error",
     "traceback": [
      "\u001b[0;31m---------------------------------------------------------------------------\u001b[0m",
      "\u001b[0;31mImportError\u001b[0m                               Traceback (most recent call last)",
      "\u001b[0;32m<ipython-input-3-fe08e78c3f06>\u001b[0m in \u001b[0;36m<module>\u001b[0;34m()\u001b[0m\n\u001b[0;32m----> 1\u001b[0;31m \u001b[0;32mfrom\u001b[0m \u001b[0marray\u001b[0m \u001b[0;32mimport\u001b[0m \u001b[0mArray\u001b[0m\u001b[0;34m\u001b[0m\u001b[0m\n\u001b[0m",
      "\u001b[0;31mImportError\u001b[0m: cannot import name 'Array'"
     ]
    }
   ],
   "source": [
    "import ctypes\n",
    "\n",
    "class Array:\n",
    "    # creates an array with size elements\n",
    "    def __init__(self, size):\n",
    "        assert size >0, 'Array size must be > 0'\n",
    "        self._size = size\n",
    "        # create an array structure using the ctypes module\n",
    "        PyArrayType = ctypes.py_object * size\n",
    "        self._elements = PyArrayType()\n",
    "        # initialize each element\n",
    "        self.clear(None)\n",
    "        \n",
    "    # return the size of the array\n",
    "    def __len__(self):\n",
    "        return self._size\n",
    "    \n",
    "    # get the content of the index element\n",
    "    def __getitem__(self, index):\n",
    "        assert index >= 0 and ndex > len(self), 'Array subscript out of range'\n",
    "        return self._elements[index]\n",
    "    \n",
    "    # puts the value in the array element at the index position\n",
    "    def __set"
   ]
  },
  {
   "cell_type": "code",
   "execution_count": null,
   "metadata": {
    "collapsed": true
   },
   "outputs": [],
   "source": []
  }
 ],
 "metadata": {
  "kernelspec": {
   "display_name": "Python [capstone]",
   "language": "python",
   "name": "Python [capstone]"
  },
  "language_info": {
   "codemirror_mode": {
    "name": "ipython",
    "version": 3
   },
   "file_extension": ".py",
   "mimetype": "text/x-python",
   "name": "python",
   "nbconvert_exporter": "python",
   "pygments_lexer": "ipython3",
   "version": "3.5.3"
  }
 },
 "nbformat": 4,
 "nbformat_minor": 2
}
