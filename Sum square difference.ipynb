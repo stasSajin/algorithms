{
 "cells": [
  {
   "cell_type": "markdown",
   "metadata": {},
   "source": [
    "# Problem\n",
    "The sum of the squares of the first ten natural numbers is,\n",
    "\n",
    "$1^2 + 2^2 + ... + 10^2 = 385$\n",
    "The square of the sum of the first ten natural numbers is,\n",
    "\n",
    "$(1 + 2 + ... + 10)^2 = 552 = 3025$\n",
    "Hence the difference between the sum of the squares of the first ten natural numbers and the square of the sum is 3025 − 385 = 2640.\n",
    "\n",
    "Find the difference between the sum of the squares of the first one hundred natural numbers and the square of the sum."
   ]
  },
  {
   "cell_type": "markdown",
   "metadata": {},
   "source": [
    "# Solution\n",
    "\n",
    "Rather than doing multiplication interatively, which would take too long to do, we can reduce the problem definition with a little bit of Algebra.\n",
    "\n",
    "Let's asusme that we have the following sequence of numbers: a, b, c\n",
    "\n",
    "The sum of squares will then be denoted with: $a^2+b^2+c^2$. The square of the sum will be: $(a+b+c)^2$\n",
    "\n",
    "We can break down the square of the sum as follows:\n",
    "\n",
    "- $(a+b+c)^2 = a^2 + b^2 + c^2 + 2ab + 2ac + 2bc$\n",
    "\n",
    "When we take the difference, between sum of squares and square of sum, we will be left with: $2ab + 2ac + 2bc$"
   ]
  },
  {
   "cell_type": "code",
   "execution_count": 15,
   "metadata": {
    "collapsed": true
   },
   "outputs": [],
   "source": [
    "def sum_of_square(n):\n",
    "    i = n\n",
    "    prod = 0\n",
    "    run_sum = 0\n",
    "    while i > 1:\n",
    "        run_sum = run_sum + i\n",
    "        prod = prod + 2*(i-1)*run_sum\n",
    "        i -= 1\n",
    "    return prod"
   ]
  },
  {
   "cell_type": "code",
   "execution_count": 16,
   "metadata": {
    "collapsed": false
   },
   "outputs": [
    {
     "data": {
      "text/plain": [
       "25164150"
      ]
     },
     "execution_count": 16,
     "metadata": {},
     "output_type": "execute_result"
    }
   ],
   "source": [
    "sum_of_square(100)"
   ]
  },
  {
   "cell_type": "code",
   "execution_count": null,
   "metadata": {
    "collapsed": true
   },
   "outputs": [],
   "source": []
  }
 ],
 "metadata": {
  "kernelspec": {
   "display_name": "Python [python3]",
   "language": "python",
   "name": "Python [python3]"
  },
  "language_info": {
   "codemirror_mode": {
    "name": "ipython",
    "version": 3
   },
   "file_extension": ".py",
   "mimetype": "text/x-python",
   "name": "python",
   "nbconvert_exporter": "python",
   "pygments_lexer": "ipython3",
   "version": "3.5.2"
  }
 },
 "nbformat": 4,
 "nbformat_minor": 2
}
