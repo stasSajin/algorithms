{
 "cells": [
  {
   "cell_type": "markdown",
   "metadata": {},
   "source": [
    "# Problem\n",
    "Imagine that you have 100 cats and they are all ordered. In Round 1, all hats get to wear a hat. In Round 2, every second cat in the sequence takes their hat off. In round 3, every third cat takes their hat off if they were wearing a hat in round 2. If they were not earing a hat in round 3, they get to put their hat back on. In round 4, every 4th cat either puts their hat back on or puts it off. Give me the position of the cats that are going to have a hat in round 100.\n"
   ]
  },
  {
   "cell_type": "markdown",
   "metadata": {},
   "source": [
    "# Solution\n",
    "To solve this problem and to notice the pattern, it is best to draw the possible state of a cat for the first 10 rounds. When a cat has a hat, I'll set the state to 1, otherwise it will be 0.\n",
    "\n",
    "We can see that \n",
    "* Cat1 doesn't change state: Cat1: 1, 1, 1, 1, 1, 1, 1, 1, 1; \n",
    "* Cat2 changes state once Cat2: 1, 0, 0, 0, 0, 0, 0, 0, 0; \n",
    "Cat3 changes state once also\n",
    "Cat3: 1, 1, 0, 0, 0, 0, 0, 0, 0;\n",
    "Cat4 changes states twice\n",
    "Cat4: 1, 0, 0, 1, 1, 1, 1, 1, 1;\n",
    "\n",
    "The four examples above are enough to see the pattern. We can notice that in $n$ round a cat will change states equal to $n_{factors} -1$. \n",
    "\n",
    "For instance, cat7 is in a prime position, so it will change state at 1 and 7 only. Cat6, will change states at the factors of 6 (1, 2, 3, and 6). This means that if a  cat's position number has an even number of factors, the cat will end up with a hat, otherwise, the cat will end up with no hat.\n"
   ]
  },
  {
   "cell_type": "code",
   "execution_count": 47,
   "metadata": {
    "collapsed": false
   },
   "outputs": [],
   "source": [
    "# function for extracting factors for a number\n",
    "def factor(n):\n",
    "    factors = []\n",
    "    length = n\n",
    "    for i in range(1, length+1):\n",
    "        if n%i==0:\n",
    "            factors.append(i)\n",
    "    return factors\n",
    "\n",
    "# the function below appends cats with even number of factors to the cats with hats\n",
    "def cats(positions):\n",
    "    cats_with_hats = []\n",
    "    for position in range(1, positions):\n",
    "        n = len(factor(position))\n",
    "        if n%2==1:\n",
    "            cats_with_hats.append(position)\n",
    "    return cats_with_hats"
   ]
  },
  {
   "cell_type": "code",
   "execution_count": 49,
   "metadata": {
    "collapsed": false
   },
   "outputs": [
    {
     "data": {
      "text/plain": [
       "[1, 4, 9, 16, 25, 36, 49, 64, 81]"
      ]
     },
     "execution_count": 49,
     "metadata": {},
     "output_type": "execute_result"
    }
   ],
   "source": [
    "#the following cats will end up with hats\n",
    "cats(100)"
   ]
  }
 ],
 "metadata": {
  "kernelspec": {
   "display_name": "Python [python3]",
   "language": "python",
   "name": "Python [python3]"
  },
  "language_info": {
   "codemirror_mode": {
    "name": "ipython",
    "version": 3
   },
   "file_extension": ".py",
   "mimetype": "text/x-python",
   "name": "python",
   "nbconvert_exporter": "python",
   "pygments_lexer": "ipython3",
   "version": "3.5.2"
  }
 },
 "nbformat": 4,
 "nbformat_minor": 2
}
