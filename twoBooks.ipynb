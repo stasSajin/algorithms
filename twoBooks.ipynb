{
 "cells": [
  {
   "cell_type": "markdown",
   "metadata": {},
   "source": [
    "# Problem\n",
    "Imagine that you want to visit a friend and that he asked you to buy two books. You have a gift card that you want completely use up. The total value of the card is $18. You also want to minimize the weight of the books you will carry.\n",
    "\n",
    "Which two books should you pick to fulfill those constraints.\n",
    "\n",
    "- target = 18\n",
    "- books = [(5, 10), (15, 20), (20, 20), (3, 17), (9, 20), (7, 13)]"
   ]
  },
  {
   "cell_type": "code",
   "execution_count": null,
   "metadata": {
    "collapsed": true
   },
   "outputs": [],
   "source": [
    "def twoBooks(books):\n",
    "    total_weight = None\n",
    "    total_price = 0\n",
    "    \n",
    "    for book in books:\n",
    "    "
   ]
  }
 ],
 "metadata": {
  "kernelspec": {
   "display_name": "Python [python3]",
   "language": "python",
   "name": "Python [python3]"
  },
  "language_info": {
   "codemirror_mode": {
    "name": "ipython",
    "version": 3
   },
   "file_extension": ".py",
   "mimetype": "text/x-python",
   "name": "python",
   "nbconvert_exporter": "python",
   "pygments_lexer": "ipython3",
   "version": "3.5.2"
  }
 },
 "nbformat": 4,
 "nbformat_minor": 2
}
