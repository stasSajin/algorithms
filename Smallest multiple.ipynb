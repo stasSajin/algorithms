{
 "cells": [
  {
   "cell_type": "markdown",
   "metadata": {},
   "source": [
    "# Problem\n",
    "\n",
    "This problem was taken from project Euler. Difficulty easy\n",
    "\n",
    "2520 is the smallest number that can be divided by each of the numbers from 1 to 10 without any remainder.\n",
    "What is the smallest positive number that is evenly divisible by all of the numbers from 1 to 20?"
   ]
  },
  {
   "cell_type": "markdown",
   "metadata": {},
   "source": [
    "# Solution\n",
    "\n",
    "The solution involves finding the set of common prime factors for the numbers 1 to 20, and then multiplying those factors with each other.\n",
    "\n",
    "For instance, to get the number 2520, we can find the prime factors for each of the numbers from 2-10 (we exclude 1, because it does not change the product outcome):\n",
    "* Factors for 2: 2\n",
    "* Factors for 3: 3\n",
    "* Factors for 4: 2, 2\n",
    "* Factors for 5: 5\n",
    "* Factors for 6: 2, 3\n",
    "* Factors for 7: 7\n",
    "* Factors for 8: 2, 2, 2\n",
    "* Factors for 9: 3, 3\n",
    "* Factors for 10: 2, 5\n",
    "\n",
    "If we find the largest for each prime in the list, and then multiply all those numbers, we should get 2520.\n",
    "\n",
    "Example: `(2*2*2*3*3*5*7)`"
   ]
  },
  {
   "cell_type": "code",
   "execution_count": 1,
   "metadata": {
    "collapsed": true
   },
   "outputs": [],
   "source": [
    "def get_factors(n):\n",
    "    factors = []\n",
    "    i = 2\n",
    "    while i < n+1:\n",
    "        if n%i==0:\n",
    "            factors.append(i)\n",
    "            n = n/i\n",
    "        else:\n",
    "            i += 1\n",
    "    return factors"
   ]
  },
  {
   "cell_type": "code",
   "execution_count": 2,
   "metadata": {
    "collapsed": true
   },
   "outputs": [],
   "source": [
    "from itertools import repeat\n",
    "def get_smallest_multiple(n):\n",
    "    multiple_factors = []\n",
    "    i = n\n",
    "    while i > 1:\n",
    "        factors = get_factors(i)\n",
    "        for j in set(factors):\n",
    "            if multiple_factors.count(j) < factors.count(j):\n",
    "                diff =  factors.count(j) - multiple_factors.count(j)\n",
    "                multiple_factors.extend(repeat(j, diff))\n",
    "        i -= 1\n",
    "    \n",
    "    # get the product of each element\n",
    "    prod = 1\n",
    "    for i in multiple_factors:\n",
    "        prod = prod * i\n",
    "    \n",
    "    return multiple_factors, prod"
   ]
  },
  {
   "cell_type": "code",
   "execution_count": 5,
   "metadata": {},
   "outputs": [
    {
     "data": {
      "text/plain": [
       "([2, 2, 5, 19, 3, 3, 17, 2, 2, 7, 13, 11], 232792560)"
      ]
     },
     "execution_count": 5,
     "metadata": {},
     "output_type": "execute_result"
    }
   ],
   "source": [
    "get_smallest_multiple(20)"
   ]
  },
  {
   "cell_type": "code",
   "execution_count": 7,
   "metadata": {},
   "outputs": [
    {
     "data": {
      "text/plain": [
       "([2,\n",
       "  2,\n",
       "  5,\n",
       "  5,\n",
       "  11,\n",
       "  3,\n",
       "  3,\n",
       "  7,\n",
       "  7,\n",
       "  97,\n",
       "  2,\n",
       "  2,\n",
       "  2,\n",
       "  19,\n",
       "  47,\n",
       "  31,\n",
       "  23,\n",
       "  13,\n",
       "  89,\n",
       "  29,\n",
       "  43,\n",
       "  17,\n",
       "  83,\n",
       "  41,\n",
       "  3,\n",
       "  3,\n",
       "  79,\n",
       "  37,\n",
       "  73,\n",
       "  71,\n",
       "  67,\n",
       "  2,\n",
       "  61,\n",
       "  59,\n",
       "  53],\n",
       " 69720375229712477164533808935312303556800)"
      ]
     },
     "execution_count": 7,
     "metadata": {},
     "output_type": "execute_result"
    }
   ],
   "source": [
    "get_smallest_multiple(100)"
   ]
  },
  {
   "cell_type": "code",
   "execution_count": null,
   "metadata": {
    "collapsed": true
   },
   "outputs": [],
   "source": []
  }
 ],
 "metadata": {
  "anaconda-cloud": {},
  "kernelspec": {
   "display_name": "Python 3",
   "language": "python",
   "name": "python3"
  },
  "language_info": {
   "codemirror_mode": {
    "name": "ipython",
    "version": 3
   },
   "file_extension": ".py",
   "mimetype": "text/x-python",
   "name": "python",
   "nbconvert_exporter": "python",
   "pygments_lexer": "ipython3",
   "version": "3.6.2"
  }
 },
 "nbformat": 4,
 "nbformat_minor": 2
}
