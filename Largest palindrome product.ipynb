{
 "cells": [
  {
   "cell_type": "markdown",
   "metadata": {},
   "source": [
    "# Problem\n",
    "The problem was taken from project euler.\n",
    "\n",
    "A palindromic number reads the same both ways. The largest palindrome made from the product of two 2-digit numbers is 9009 = 91 × 99.\n",
    "\n",
    "Find the largest palindrome made from the product of two 3-digit numbers."
   ]
  },
  {
   "cell_type": "markdown",
   "metadata": {},
   "source": [
    "# Solution\n",
    "I'm really happy about the solution below since it is super efficient."
   ]
  },
  {
   "cell_type": "code",
   "execution_count": 2,
   "metadata": {
    "collapsed": true
   },
   "outputs": [],
   "source": [
    "# define a function for getting the prime multiples\n",
    "def get_prime_factors(n):\n",
    "    \"\"\"\n",
    "    This function will return the smallest prime factors. \n",
    "    \"\"\"\n",
    "    factors = []\n",
    "    i = 2\n",
    "    while i < n+1:\n",
    "        if n%i == 0:\n",
    "            factors.append(i)\n",
    "            n = n/i\n",
    "            if i == n:\n",
    "                break\n",
    "        else: i +=1\n",
    "    return factors\n",
    "\n",
    "def get_two_largest_multiples(arr):\n",
    "    \"\"\"\n",
    "    This function takes an array and generates two numbers that when multiplied\n",
    "    end up the same as the product of all the elements of the array. The numbers represent the the two largest\n",
    "    numbers that have the smallest absolute difference between them\n",
    "    \"\"\"\n",
    "    temp_array = []\n",
    "    i = 0\n",
    "    j = len(arr)-1\n",
    "    \n",
    "    if len(arr) == 2:\n",
    "        return arr \n",
    "    while i<=j: \n",
    "        if i<j:\n",
    "            temp_array.append(arr[i] * arr[j])\n",
    "        if i == j:\n",
    "            temp_array.append(arr[i])\n",
    "        i += 1\n",
    "        j -= 1\n",
    "    return get_two_largest_multiples(temp_array)\n",
    "\n",
    "\n",
    "# write a palidrome generator\n",
    "def generate_palidrome():\n",
    "    \"This function will return the 2 3-digit numbers that generate the largest palidrome\"\n",
    "    i = 999\n",
    "    while i > 99:\n",
    "        n = int(str(i) + str(i)[::-1])\n",
    "        # generate the prime factors out of the palidrome\n",
    "        factors = get_prime_factors(n)\n",
    "        multiples = get_two_largest_multiples(factors)\n",
    "        i -= 1\n",
    "        if max(multiples) < 1000:\n",
    "            break\n",
    "        \n",
    "    return n, multiples"
   ]
  },
  {
   "cell_type": "code",
   "execution_count": 15,
   "metadata": {
    "collapsed": false
   },
   "outputs": [
    {
     "name": "stdout",
     "output_type": "stream",
     "text": [
      "1 loop, best of 3: 659 ms per loop\n"
     ]
    }
   ],
   "source": [
    "%timeit generate_palidrome()"
   ]
  },
  {
   "cell_type": "markdown",
   "metadata": {},
   "source": [
    "The solution below is not mine. The solution is more readable and compact, though it has a slightly slower performance time."
   ]
  },
  {
   "cell_type": "code",
   "execution_count": 16,
   "metadata": {
    "collapsed": false
   },
   "outputs": [
    {
     "name": "stdout",
     "output_type": "stream",
     "text": [
      "1 loop, best of 3: 795 ms per loop\n"
     ]
    }
   ],
   "source": [
    "%timeit max(i*j for i in xrange(1,1000) for j in xrange(1,1000) if str(i*j) == str(i*j)[::-1])"
   ]
  },
  {
   "cell_type": "code",
   "execution_count": 19,
   "metadata": {
    "collapsed": false
   },
   "outputs": [
    {
     "data": {
      "text/plain": [
       "(906609, [993, 913])"
      ]
     },
     "execution_count": 19,
     "metadata": {},
     "output_type": "execute_result"
    }
   ],
   "source": [
    "generate_palidrome()"
   ]
  },
  {
   "cell_type": "code",
   "execution_count": 6,
   "metadata": {
    "collapsed": false
   },
   "outputs": [
    {
     "data": {
      "text/plain": [
       "[3, 11, 83, 331]"
      ]
     },
     "execution_count": 6,
     "metadata": {},
     "output_type": "execute_result"
    }
   ],
   "source": [
    "get_prime_factors(906609)"
   ]
  },
  {
   "cell_type": "code",
   "execution_count": null,
   "metadata": {
    "collapsed": true
   },
   "outputs": [],
   "source": [
    "get_prime_factors([3, 11, 83, 331])"
   ]
  }
 ],
 "metadata": {
  "anaconda-cloud": {},
  "kernelspec": {
   "display_name": "Python [Root]",
   "language": "python",
   "name": "Python [Root]"
  },
  "language_info": {
   "codemirror_mode": {
    "name": "ipython",
    "version": 2
   },
   "file_extension": ".py",
   "mimetype": "text/x-python",
   "name": "python",
   "nbconvert_exporter": "python",
   "pygments_lexer": "ipython2",
   "version": "2.7.12"
  }
 },
 "nbformat": 4,
 "nbformat_minor": 2
}
