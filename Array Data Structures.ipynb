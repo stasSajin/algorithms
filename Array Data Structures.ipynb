{
 "cells": [
  {
   "cell_type": "markdown",
   "metadata": {},
   "source": [
    "# Implement Array Abstract Data Type\n",
    "The goal is to implement an abstract data type for arrays. The array should have the following functions:\n",
    "\n",
    "- Array(size): should allow the creation of an array with the *size* elements\n",
    "- length() should provide the length of the array\n",
    "- getItem(index) should provide the element at the index position in the array\n",
    "- setItem(index) should allow to modify the contents of the array at the index\n",
    "- clear(value) should allow to set every element in the array to a value\n",
    "- iterator(): creates and returns an iterator that can be used to traverse the elements of an array"
   ]
  },
  {
   "cell_type": "code",
   "execution_count": 18,
   "metadata": {
    "collapsed": false
   },
   "outputs": [],
   "source": [
    "# using ctypes to implement hardware array\n",
    "import ctypes\n",
    "\n",
    "class Array:\n",
    "    # creates an array with size elements\n",
    "    def __init__(self, size):\n",
    "        assert size >0, 'Array size must be > 0'\n",
    "        self._size = size\n",
    "        # create an array structure using the ctypes module\n",
    "        PyArrayType = ctypes.py_object * size\n",
    "        self._elements = PyArrayType()\n",
    "        # initialize each element with a null pointer\n",
    "        self.clear(None)\n",
    "        \n",
    "    # return the size of the array\n",
    "    def __len__(self):\n",
    "        return self._size\n",
    "    \n",
    "    # get the content of the index element\n",
    "    def __getitem__(self, index):\n",
    "        assert index >= 0 and index < len(self), 'Array subscript out of range'\n",
    "        return self._elements[index]\n",
    "    \n",
    "    # puts the value in the array element at the index position\n",
    "    def __setitem__(self, index, value):\n",
    "        assert index >=0 and index<len(self), 'Array subscript out of range'\n",
    "        self._elements[index] = value\n",
    "    \n",
    "    # clear the array by setting each element to a given value\n",
    "    def clear(self, value):\n",
    "        for i in range(len(self)):\n",
    "            self._elements[i] = value\n",
    "            \n",
    "    # return the array's iterator for traversing the elements\n",
    "    def __iter__(self):\n",
    "        return _ArrayIterator(self._elements)\n",
    "    \n",
    "class _ArrayIterator:\n",
    "    def __init__(self, theArray):\n",
    "        self._arrayRef = theArray\n",
    "        self._curNdx = 0\n",
    "        \n",
    "    def __iter__(self):\n",
    "        return self\n",
    "    \n",
    "    def __next__(self):\n",
    "        if self._curNdx < len(self._arrayRef):\n",
    "            entry = self._arrayRef[self._curNdx]\n",
    "            self._curNdx += 1\n",
    "            return entry\n",
    "        else:\n",
    "            raise StopIteration\n",
    "    "
   ]
  },
  {
   "cell_type": "markdown",
   "metadata": {},
   "source": [
    "# Implement a 2d Array abstract data type"
   ]
  },
  {
   "cell_type": "code",
   "execution_count": null,
   "metadata": {
    "collapsed": true
   },
   "outputs": [],
   "source": [
    "class Array2D:\n",
    "    # initialize an array\n",
    "    def __init__(self, numRows, numCols):\n",
    "        assert rows >0 and cols >0, 'Rows and cols should be larger than 0'\n",
    "        # create a 1-d array fo rows\n",
    "        self._theRows = Array(numRows)\n",
    "        \n",
    "        # for each elemnt in rows create an array of columns\n",
    "        for i in range(numRows):\n",
    "            self._theRows[i] = Array(numCols)\n",
    "            \n",
    "    # return the number of rows\n",
    "    def numRows(self):\n",
    "        return len(self._theRows)\n",
    "    \n",
    "    # return the number of columns\n",
    "    def numColumns(self):\n",
    "        return len(self._theRows[0])\n",
    "    \n",
    "    # set every element in array to a given value\n",
    "    def clear(self, value):\n",
    "        for row in range(self.numRows()):\n",
    "            row.clear(value)\n",
    "            \n",
    "    # get contents of element at position i, j\n",
    "    def __getitem_-(self, ndxTuple):\n",
    "        assert len(ndxTuple) == 2, 'Invalid number of array subscripts'\n",
    "        row = ndxTuple[0]\n",
    "        col = ndxTuple[1]\n",
    "        assert row >= 0 and row < self.numRows() \\\n",
    "            and col >=0 and col < self.numCols(), \\\n",
    "            'Array subscript out of range.'\n",
    "        the1dArray = self._theRows[row]\n",
    "        \n",
    "        \n",
    "        "
   ]
  }
 ],
 "metadata": {
  "kernelspec": {
   "display_name": "Python [capstone]",
   "language": "python",
   "name": "Python [capstone]"
  },
  "language_info": {
   "codemirror_mode": {
    "name": "ipython",
    "version": 3
   },
   "file_extension": ".py",
   "mimetype": "text/x-python",
   "name": "python",
   "nbconvert_exporter": "python",
   "pygments_lexer": "ipython3",
   "version": "3.5.3"
  }
 },
 "nbformat": 4,
 "nbformat_minor": 2
}
